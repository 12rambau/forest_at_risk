{
 "cells": [
  {
   "cell_type": "code",
   "execution_count": null,
   "metadata": {},
   "outputs": [],
   "source": [
    "from sepal_ui import sepalwidgets as sw"
   ]
  },
  {
   "cell_type": "code",
   "execution_count": null,
   "metadata": {},
   "outputs": [],
   "source": [
    "#create an appBar\n",
    "fao_appBar = sw.AppBar('My Fake module')"
   ]
  },
  {
   "cell_type": "code",
   "execution_count": null,
   "metadata": {},
   "outputs": [],
   "source": [
    "#create a footer \n",
    "fao_footer = sw.Footer('The sky is the limit \\u00A9 2020')"
   ]
  },
  {
   "cell_type": "code",
   "execution_count": null,
   "metadata": {},
   "outputs": [],
   "source": [
    "#add your tiles\n",
    "%run 'aoi_UI.ipynb'\n",
    "%run 'process_UI.ipynb'\n",
    "%run 'about_UI.ipynb'\n",
    "\n",
    "fao_content = [fao_aoi, fao_process, fao_results, fao_about, fao_disclaimer]"
   ]
  },
  {
   "cell_type": "code",
   "execution_count": null,
   "metadata": {},
   "outputs": [],
   "source": [
    "#create a drawer \n",
    "item_aoi = ws.DrawerItem('AOI selection', 'mdi-map-marker-check', card=\"aoi_widget\").display_tile(fao_content)\n",
    "item_tile = ws.DrawerItem('Process', 'mdi-cogs', card=\"process_widget\").display_tile(fao_content)\n",
    "item_result = ws.DrawerItem('Results', 'mdi-chart-bar', card=\"result_widget\").display_tile(fao_content)\n",
    "item_about = ws.DrawerItem('About', 'mdi-help-circle', card=\"about_widget\").display_tile(fao_content)\n",
    "\n",
    "code_link = 'https://github.com/12rambau/sepal_ui_template'\n",
    "wiki_link = 'https://github.com/12rambau/sepal_ui_template/blob/master/doc/fake_doc.md'\n",
    "issue = 'https://github.com/12rambau/sepal_ui_template/issues/new'\n",
    "\n",
    "items = [item_aoi, item_tile, item_result, item_about]\n",
    "fao_drawer = sw.NavDrawer(items, code = code_link, wiki = wiki_link, issue = issue).display_drawer(fao_appBar.toggle_button)\n"
   ]
  },
  {
   "cell_type": "code",
   "execution_count": null,
   "metadata": {},
   "outputs": [],
   "source": [
    "select = 'aoi_widget' #id of the tile you want to display\n",
    "\n",
    "#build the app \n",
    "fao_app = sw.App(\n",
    "    tiles=fao_content, \n",
    "    appBar=fao_appBar, \n",
    "    footer=fao_footer, \n",
    "    navDrawer=fao_drawer\n",
    ").show_tile(select)\n"
   ]
  },
  {
   "cell_type": "code",
   "execution_count": null,
   "metadata": {},
   "outputs": [],
   "source": [
    "#display the app\n",
    "fao_app"
   ]
  }
 ],
 "metadata": {
  "kernelspec": {
   "display_name": "Python 3",
   "language": "python",
   "name": "python3"
  },
  "language_info": {
   "codemirror_mode": {
    "name": "ipython",
    "version": 3
   },
   "file_extension": ".py",
   "mimetype": "text/x-python",
   "name": "python",
   "nbconvert_exporter": "python",
   "pygments_lexer": "ipython3",
   "version": "3.6.9"
  }
 },
 "nbformat": 4,
 "nbformat_minor": 4
}
