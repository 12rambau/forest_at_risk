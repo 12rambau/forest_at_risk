{
 "cells": [
  {
   "cell_type": "code",
   "execution_count": null,
   "metadata": {},
   "outputs": [],
   "source": [
    "import sys\n",
    "sys.path.append(\"..\")\n",
    "from sepal_ui import widgetFactory as wf\n",
    "from sepal_ui import widgetBinding as wb"
   ]
  },
  {
   "cell_type": "code",
   "execution_count": null,
   "metadata": {},
   "outputs": [],
   "source": [
    "#create an appBar \n",
    "fao_appBar, fao_toggleButton = wf.AppBar('My fake module')"
   ]
  },
  {
   "cell_type": "code",
   "execution_count": null,
   "metadata": {},
   "outputs": [],
   "source": [
    "#create a footer \n",
    "fao_footer = wf.Footer('The sky is the limit \\u00A9 2020')"
   ]
  },
  {
   "cell_type": "code",
   "execution_count": null,
   "metadata": {},
   "outputs": [],
   "source": [
    "#add your tiles\n",
    "%run 'aoi_UI.ipynb'\n",
    "%run 'process_UI.ipynb'\n",
    "%run 'about_UI.ipynb'\n",
    "\n",
    "fao_content = [fao_aoi, fao_process, fao_results, fao_about]"
   ]
  },
  {
   "cell_type": "code",
   "execution_count": null,
   "metadata": {},
   "outputs": [],
   "source": [
    "#select the tile to display first \n",
    "select = 'process_widget' #id of the tile you want to display\n",
    "wf.hideCards(select, fao_content)"
   ]
  },
  {
   "cell_type": "code",
   "execution_count": null,
   "metadata": {},
   "outputs": [],
   "source": [
    "#create a drawer \n",
    "item_aoi = wf.DrawerItem('AOI selection', 'mdi-map-marker-check', card=\"aoi_widget\")\n",
    "item_tile = wf.DrawerItem('Process', 'mdi-cogs', card=\"process_widget\")\n",
    "item_result = wf.DrawerItem('Results', 'mdi-chart-bar', card=\"result_widget\")\n",
    "item_about = wf.DrawerItem('About', 'mdi-help-circle', card=\"about_widget\")\n",
    "\n",
    "code_link = 'https://github.com/12rambau/sepal_ui_template'\n",
    "wiki_link = 'https://github.com/12rambau/sepal_ui_template/blob/master/doc/fake_doc.md'\n",
    "issue = 'https://github.com/12rambau/sepal_ui_template/issues/new'\n",
    "\n",
    "items = [item_aoi, item_tile, item_result, item_about]\n",
    "fao_drawer = wf.NavDrawer(items, code = code_link, wiki = wiki_link, issue = issue)\n"
   ]
  },
  {
   "cell_type": "code",
   "execution_count": null,
   "metadata": {},
   "outputs": [],
   "source": [
    "#build the app \n",
    "fao_app = wf.App(\n",
    "    tiles=fao_content, \n",
    "    appBar=fao_appBar, \n",
    "    footer=fao_footer, \n",
    "    navDrawer=fao_drawer\n",
    ")[0]\n"
   ]
  },
  {
   "cell_type": "code",
   "execution_count": null,
   "metadata": {},
   "outputs": [],
   "source": [
    "#bind the components together\n",
    "wb.displayDrawer(fao_drawer, fao_toggleButton) #drawer \n",
    "for item in items:                             #drawer clickable buttons\n",
    "    wb.display_tile(item, fao_content)\n"
   ]
  },
  {
   "cell_type": "code",
   "execution_count": null,
   "metadata": {},
   "outputs": [],
   "source": [
    "#display the app\n",
    "fao_app"
   ]
  }
 ],
 "metadata": {
  "kernelspec": {
   "display_name": "Python 3",
   "language": "python",
   "name": "python3"
  },
  "language_info": {
   "codemirror_mode": {
    "name": "ipython",
    "version": 3
   },
   "file_extension": ".py",
   "mimetype": "text/x-python",
   "name": "python",
   "nbconvert_exporter": "python",
   "pygments_lexer": "ipython3",
   "version": "3.6.9"
  }
 },
 "nbformat": 4,
 "nbformat_minor": 4
}
