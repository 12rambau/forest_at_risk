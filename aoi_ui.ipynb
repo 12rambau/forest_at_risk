{
 "cells": [
  {
   "cell_type": "code",
   "execution_count": null,
   "id": "3945f7e9-1f0e-49f8-bbae-3b72dd37436c",
   "metadata": {},
   "outputs": [],
   "source": [
    "from sepal_ui import aoi\n",
    "\n",
    "aoi_tile = aoi.AoiTile(gee=True, methods=[\"-POINTS\"])"
   ]
  },
  {
   "cell_type": "code",
   "execution_count": null,
   "id": "21728412-aa07-4791-ae82-a67ddf3a23bf",
   "metadata": {},
   "outputs": [],
   "source": [
    "aoi_tile"
   ]
  },
  {
   "cell_type": "code",
   "execution_count": null,
   "id": "bcb73b6a-7d78-4fcb-b315-b4ade26b098d",
   "metadata": {},
   "outputs": [],
   "source": [
    "aoi_tile.view.model.admin"
   ]
  },
  {
   "cell_type": "code",
   "execution_count": null,
   "id": "88d1cb75-f30c-4139-9365-107cc4c0ffe1",
   "metadata": {},
   "outputs": [],
   "source": []
  }
 ],
 "metadata": {
  "kernelspec": {
   "display_name": "Python 3",
   "language": "python",
   "name": "python3"
  },
  "language_info": {
   "codemirror_mode": {
    "name": "ipython",
    "version": 3
   },
   "file_extension": ".py",
   "mimetype": "text/x-python",
   "name": "python",
   "nbconvert_exporter": "python",
   "pygments_lexer": "ipython3",
   "version": "3.8.10"
  }
 },
 "nbformat": 4,
 "nbformat_minor": 5
}
