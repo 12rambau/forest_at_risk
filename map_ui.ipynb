{
 "cells": [
  {
   "cell_type": "code",
   "execution_count": null,
   "id": "64000d33-f366-45b7-b972-b9ad1e8a7697",
   "metadata": {},
   "outputs": [],
   "source": [
    "from component import tile"
   ]
  },
  {
   "cell_type": "code",
   "execution_count": null,
   "id": "ce95f20d-1984-4555-81e9-3086375e06b0",
   "metadata": {},
   "outputs": [],
   "source": [
    "map_tile = tile.MapTile()"
   ]
  },
  {
   "cell_type": "code",
   "execution_count": null,
   "id": "8162db4b-e803-4527-a8d7-bce198380fa8",
   "metadata": {},
   "outputs": [],
   "source": [
    "map_tile"
   ]
  },
  {
   "cell_type": "code",
   "execution_count": null,
   "id": "75113e00-6a97-484d-88df-150c11d4245d",
   "metadata": {},
   "outputs": [],
   "source": []
  }
 ],
 "metadata": {
  "kernelspec": {
   "display_name": "Python 3",
   "language": "python",
   "name": "python3"
  },
  "language_info": {
   "codemirror_mode": {
    "name": "ipython",
    "version": 3
   },
   "file_extension": ".py",
   "mimetype": "text/x-python",
   "name": "python",
   "nbconvert_exporter": "python",
   "pygments_lexer": "ipython3",
   "version": "3.8.10"
  }
 },
 "nbformat": 4,
 "nbformat_minor": 5
}
