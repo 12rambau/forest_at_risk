{
 "cells": [
  {
   "cell_type": "code",
   "execution_count": null,
   "id": "164fb69c-bb2c-4bf5-96ba-0f8cc3ee2004",
   "metadata": {},
   "outputs": [],
   "source": [
    "from component.widget import CustomVar"
   ]
  },
  {
   "cell_type": "code",
   "execution_count": null,
   "id": "263bc7d3-4458-4d82-b766-15bbd5e367d8",
   "metadata": {},
   "outputs": [],
   "source": [
    "CustomVar()"
   ]
  },
  {
   "cell_type": "code",
   "execution_count": null,
   "id": "442c8432-e9ea-41e5-a820-fd9a0e77e8e5",
   "metadata": {},
   "outputs": [],
   "source": []
  }
 ],
 "metadata": {
  "kernelspec": {
   "display_name": "Python 3",
   "language": "python",
   "name": "python3"
  },
  "language_info": {
   "codemirror_mode": {
    "name": "ipython",
    "version": 3
   },
   "file_extension": ".py",
   "mimetype": "text/x-python",
   "name": "python",
   "nbconvert_exporter": "python",
   "pygments_lexer": "ipython3",
   "version": "3.8.10"
  }
 },
 "nbformat": 4,
 "nbformat_minor": 5
}
