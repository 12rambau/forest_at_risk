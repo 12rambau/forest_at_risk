{
 "cells": [
  {
   "cell_type": "code",
   "execution_count": null,
   "metadata": {},
   "outputs": [],
   "source": [
    "import ipyvuetify as v\n",
    "from functools import partial\n",
    "from scripts import process\n",
    "from sepal_ui import sepalwidgets as ws"
   ]
  },
  {
   "cell_type": "code",
   "execution_count": null,
   "metadata": {},
   "outputs": [],
   "source": [
    "#use a class to define your input and output in order to have mutable variables\n",
    "class Process:\n",
    "    def __init__(self):\n",
    "        #set up your inputs\n",
    "        self.slider_value = None\n",
    "        self.text_value = None\n",
    "    \n",
    "        #set up your output\n",
    "        self.link = None\n",
    "process_io = Process()"
   ]
  },
  {
   "cell_type": "code",
   "execution_count": null,
   "metadata": {},
   "outputs": [],
   "source": [
    "#create the button that start your process\n",
    "process_btn = ws.Btn('Click me', 'mdi-map-marker-check')"
   ]
  },
  {
   "cell_type": "code",
   "execution_count": null,
   "metadata": {},
   "outputs": [],
   "source": [
    "#create the widgets following ipyvuetify requirements \n",
    "process_slider = v.Slider(label= 'slider', class_=\"mt-5\", thumb_label=True, v_model=0)\n",
    "process_text = v.TextField(label='Write text', v_model=None)\n",
    "\n",
    "process_inputs = [process_slider, process_text]"
   ]
  },
  {
   "cell_type": "code",
   "execution_count": null,
   "metadata": {},
   "outputs": [],
   "source": [
    "#create the output alert \n",
    "process_output = ws.Alert() \\\n",
    "    .bind(process_slider, process_io, 'slider_value') \\\n",
    "    .bind(process_text, process_io, 'text_value')"
   ]
  },
  {
   "cell_type": "code",
   "execution_count": null,
   "metadata": {},
   "outputs": [],
   "source": [
    "#create a process tile\n",
    "id_ = \"process_widget\"\n",
    "title = 'Process'\n",
    "\n",
    "fao_process = ws.Tile(id_, title, btn=process_btn, inputs=process_inputs, output=process_output)"
   ]
  },
  {
   "cell_type": "code",
   "execution_count": null,
   "metadata": {},
   "outputs": [],
   "source": [
    "#create an empty result tile that will be filled with displayable plot, map, links, text\n",
    "id_ = \"result_widget\"\n",
    "title = \"Results\"\n",
    "\n",
    "fao_results = ws.Tile(id_, title, inputs=['No results to display yet'])"
   ]
  },
  {
   "cell_type": "code",
   "execution_count": null,
   "metadata": {},
   "outputs": [],
   "source": [
    "#bind the button to the process by writing a custom function\n",
    "def process_start(widget, event, data, output):\n",
    "    \n",
    "    global fao_results\n",
    "    \n",
    "    #toggle the loading button\n",
    "    widget.toggle_loading()\n",
    "    \n",
    "    #launch any process you want\n",
    "    link = process.run_my_process(\n",
    "        output, \n",
    "        percentage=process_io.slider_value, \n",
    "        name=process_io.text_value\n",
    "    )\n",
    "    #create a fake bqplot and map\n",
    "    if link:\n",
    "        #remember that you have access to other tiles IO (won't work for debugging)\n",
    "        fig, m = process.create_fake_result(aoi_io.assetId)\n",
    "        #fig, m = process.create_fake_result('users/bornToBeAlive/aoi_SN')\n",
    "        \n",
    "        #display them in the result tile \n",
    "        content = [ws.DownloadBtn('tab in .csv', link), fig, m]  \n",
    "        fao_results.set_content(content)\n",
    "        \n",
    "        setattr(process_io, 'link', link)\n",
    "        \n",
    "        output.add_live_msg('computation finished !', 'success')\n",
    "        \n",
    "    \n",
    "    #toggle the loading button\n",
    "    widget.toggle_loading()\n",
    "\n",
    "process_btn.on_event('click', partial(process_start, output=process_output))"
   ]
  },
  {
   "cell_type": "code",
   "execution_count": null,
   "metadata": {},
   "outputs": [],
   "source": [
    "#this tiles will only be displayed if you launch voila from this file \n",
    "fao_process"
   ]
  },
  {
   "cell_type": "code",
   "execution_count": null,
   "metadata": {},
   "outputs": [],
   "source": [
    "#this tiles will only be displayed if you launch voila from this file \n",
    "fao_results"
   ]
  },
  {
   "cell_type": "code",
   "execution_count": null,
   "metadata": {},
   "outputs": [],
   "source": []
  }
 ],
 "metadata": {
  "kernelspec": {
   "display_name": "Python 3",
   "language": "python",
   "name": "python3"
  },
  "language_info": {
   "codemirror_mode": {
    "name": "ipython",
    "version": 3
   },
   "file_extension": ".py",
   "mimetype": "text/x-python",
   "name": "python",
   "nbconvert_exporter": "python",
   "pygments_lexer": "ipython3",
   "version": "3.6.9"
  }
 },
 "nbformat": 4,
 "nbformat_minor": 4
}
