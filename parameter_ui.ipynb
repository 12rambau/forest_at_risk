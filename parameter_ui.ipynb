{
 "cells": [
  {
   "cell_type": "code",
   "execution_count": null,
   "id": "98c63192-5236-4173-938c-69e6ca4f8a77",
   "metadata": {},
   "outputs": [],
   "source": [
    "from component import tile"
   ]
  },
  {
   "cell_type": "code",
   "execution_count": null,
   "id": "1d0ca166-a147-49d2-b2b6-c3748bb9f7aa",
   "metadata": {},
   "outputs": [],
   "source": [
    "# for testing purposes\n",
    "from sepal_ui import aoi\n",
    "\n",
    "aoi_tile = aoi.AoiTile(admin=100)\n",
    "# aoi_tile.view.model.gdf.plot()"
   ]
  },
  {
   "cell_type": "code",
   "execution_count": null,
   "id": "dd2126c6-bcd9-4002-bcef-12b1e42bd914",
   "metadata": {},
   "outputs": [],
   "source": [
    "parameter_tile = tile.ParameterTile(aoi_tile.view.model)"
   ]
  },
  {
   "cell_type": "code",
   "execution_count": null,
   "id": "3ac30120-013c-4f2d-97f1-ebf11c678d99",
   "metadata": {},
   "outputs": [],
   "source": [
    "parameter_tile"
   ]
  }
 ],
 "metadata": {
  "kernelspec": {
   "display_name": "Python 3",
   "language": "python",
   "name": "python3"
  },
  "language_info": {
   "codemirror_mode": {
    "name": "ipython",
    "version": 3
   },
   "file_extension": ".py",
   "mimetype": "text/x-python",
   "name": "python",
   "nbconvert_exporter": "python",
   "pygments_lexer": "ipython3",
   "version": "3.8.10"
  }
 },
 "nbformat": 4,
 "nbformat_minor": 5
}
