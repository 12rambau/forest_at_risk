{
 "cells": [
  {
   "cell_type": "code",
   "execution_count": null,
   "id": "8af50a0c-7be7-4b0f-a0ec-7de686833785",
   "metadata": {},
   "outputs": [],
   "source": [
    "from sepal_ui import aoi\n",
    "\n",
    "aoi_view = aoi.AoiView()\n",
    "aoi_view"
   ]
  },
  {
   "cell_type": "code",
   "execution_count": null,
   "id": "10d44c8a-2c32-4eac-a3d2-c852074b89b5",
   "metadata": {},
   "outputs": [],
   "source": [
    "bbox = aoi_view.model.gdf.total_bounds\n",
    "bbox = [-63.15313346, 15.83200705, -61.00036419, 18.12506858]  # guadeloupe"
   ]
  },
  {
   "cell_type": "code",
   "execution_count": null,
   "id": "1ae6264d-a4a8-4ca3-8885-659109a1b317",
   "metadata": {},
   "outputs": [],
   "source": [
    "from shapely import geometry as sg\n",
    "\n",
    "sg.box(*bbox)"
   ]
  },
  {
   "cell_type": "code",
   "execution_count": null,
   "id": "b7ff44f6-b4bb-4ef0-a864-d7747f77ffae",
   "metadata": {},
   "outputs": [],
   "source": [
    "import geopandas as gpd\n",
    "import osmnx as ox"
   ]
  },
  {
   "cell_type": "code",
   "execution_count": null,
   "id": "de46b64e-63fa-4a52-8ad1-86f4c11dc7cc",
   "metadata": {},
   "outputs": [],
   "source": [
    "gdf_building = ox.geometries_from_bbox(\n",
    "    *bbox, network_type=\"drive\", custom_filter='[\"highway\"~\"primary\"]'\n",
    ")\n",
    "gdf_building.head()"
   ]
  },
  {
   "cell_type": "code",
   "execution_count": null,
   "id": "302d54e4-ebb4-4513-be1e-6fa2431600e0",
   "metadata": {},
   "outputs": [],
   "source": [
    "len(gdf_building)"
   ]
  },
  {
   "cell_type": "code",
   "execution_count": null,
   "id": "231634c0-9a75-47b8-8743-b3591b03559c",
   "metadata": {},
   "outputs": [],
   "source": [
    "gdf_building.plot()"
   ]
  },
  {
   "cell_type": "code",
   "execution_count": null,
   "id": "a81e6aa2-631b-4c38-9479-b477cb9a29ad",
   "metadata": {},
   "outputs": [],
   "source": [
    "gdf_save = gdf_building.applymap(lambda x: str(x) if isinstance(x, list) else x)\n",
    "gdf_save = gdf_save.drop(labels=\"nodes\", axis=1).filter(items=[\"osmid\", \"geometry\"])\n",
    "gdf_save.to_file(\"Kharkiv.gpkg\", driver=\"GPKG\")"
   ]
  },
  {
   "cell_type": "code",
   "execution_count": null,
   "id": "0bcedb7c-1aa7-402b-b379-e637e40b088c",
   "metadata": {},
   "outputs": [],
   "source": [
    "len(gdf_save)"
   ]
  },
  {
   "cell_type": "code",
   "execution_count": null,
   "id": "fc763993-273c-43e3-aa7b-2aa6da8a4196",
   "metadata": {},
   "outputs": [],
   "source": [
    "from sepal_ui import mapping as sm\n",
    "from ipyleaflet import GeoJSON\n",
    "import json\n",
    "\n",
    "data = json.loads(gdf_building.to_json())\n",
    "style = {\n",
    "    \"stroke\": True,\n",
    "    \"color\": \"grey\",\n",
    "    \"weight\": 2,\n",
    "    \"opacity\": 1,\n",
    "    \"fill\": True,\n",
    "    \"fillColor\": \"grey\",\n",
    "    \"fillOpacity\": 0.4,\n",
    "}\n",
    "geodata = GeoJSON(data=data, style=style, name=\"building\", attribution=\"SEPAL(c)\")\n",
    "\n",
    "m = sm.SepalMap()\n",
    "m.add_layer(geodata)"
   ]
  },
  {
   "cell_type": "code",
   "execution_count": null,
   "id": "9bc40c20-9a9c-413a-a262-bf049364544f",
   "metadata": {},
   "outputs": [],
   "source": [
    "\"highway=motorway or highway=trunk or highway=*ary\""
   ]
  }
 ],
 "metadata": {
  "kernelspec": {
   "display_name": "Python 3",
   "language": "python",
   "name": "python3"
  },
  "language_info": {
   "codemirror_mode": {
    "name": "ipython",
    "version": 3
   },
   "file_extension": ".py",
   "mimetype": "text/x-python",
   "name": "python",
   "nbconvert_exporter": "python",
   "pygments_lexer": "ipython3",
   "version": "3.8.10"
  }
 },
 "nbformat": 4,
 "nbformat_minor": 5
}
