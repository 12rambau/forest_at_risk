{
 "cells": [
  {
   "cell_type": "markdown",
   "metadata": {},
   "source": [
    "# Get started"
   ]
  },
  {
   "cell_type": "code",
   "execution_count": null,
   "metadata": {},
   "outputs": [],
   "source": [
    "# Imports\n",
    "import os\n",
    "from shutil import copy2\n",
    "import urllib.request\n",
    "from zipfile import ZipFile\n",
    "from pathlib import Path\n",
    "\n",
    "from sepal_ui import mapping as sm\n",
    "from ipyleaflet import GeoJSON\n",
    "import geopandas as gpd\n",
    "from sepal_ui import color\n",
    "import rasterio as rio\n",
    "from matplotlib.colors import ListedColormap, LinearSegmentedColormap\n",
    "import numpy as np\n",
    "\n",
    "import forestatrisk as far\n",
    "\n",
    "home = str(Path.home())"
   ]
  },
  {
   "cell_type": "markdown",
   "metadata": {},
   "source": [
    "We create a directory to hold the outputs with the help of the function `.make_dir()`."
   ]
  },
  {
   "cell_type": "code",
   "execution_count": null,
   "metadata": {},
   "outputs": [],
   "source": [
    "# Make output directory\n",
    "output_path = f\"{home}/far/output\"\n",
    "far.make_dir(output_path)"
   ]
  },
  {
   "cell_type": "markdown",
   "metadata": {},
   "source": [
    "## 1. Data\n",
    "\n",
    "### 1.1 Import and unzip the data\n",
    "\n",
    "We use the [Guadeloupe](https://en.wikipedia.org/wiki/Guadeloupe) archipelago as a case study."
   ]
  },
  {
   "cell_type": "code",
   "execution_count": null,
   "metadata": {},
   "outputs": [],
   "source": [
    "# Source of the data\n",
    "url = (\n",
    "    \"https://github.com/ghislainv/forestatrisk/raw/master/docsrc/notebooks/data_GLP.zip\"\n",
    ")\n",
    "zip_path = f\"{home}/tmp/data_GLP.zip\"\n",
    "data_path = f\"{home}/far/data\"\n",
    "\n",
    "if os.path.exists(zip_path) is False:\n",
    "    urllib.request.urlretrieve(url, zip_path)\n",
    "\n",
    "with ZipFile(zip_path, \"r\") as z:\n",
    "    z.extractall(data_path)"
   ]
  },
  {
   "cell_type": "markdown",
   "metadata": {},
   "source": [
    "### 1.2 Files\n",
    "\n",
    "The `data` folder includes, among other files:\n",
    "\n",
    "- The forest cover change data for the period 2010-2020 as a GeoTiff raster file (`data/fcc23.tif`).\n",
    "- Spatial variables as GeoTiff raster files (`.tif` extension, eg. `data/dist_edge.tif` for distance to forest edge)."
   ]
  },
  {
   "cell_type": "markdown",
   "metadata": {},
   "source": [
    "### 1.3 Sampling the observations\n",
    "\n"
   ]
  },
  {
   "cell_type": "code",
   "execution_count": null,
   "metadata": {
    "raw_mimetype": "text/x-python"
   },
   "outputs": [],
   "source": [
    "# Sample points\n",
    "dataset = far.sample(\n",
    "    nsamp=10000,\n",
    "    adapt=True,\n",
    "    seed=1234,\n",
    "    csize=10,\n",
    "    var_dir=data_path,\n",
    "    input_forest_raster=\"fcc23.tif\",\n",
    "    output_file=f\"{output_path}/sample.txt\",\n",
    "    blk_rows=0,\n",
    ")"
   ]
  },
  {
   "cell_type": "code",
   "execution_count": null,
   "metadata": {},
   "outputs": [],
   "source": [
    "# Remove NA from data-set (otherwise scale() and\n",
    "# model_binomial_iCAR do not work)\n",
    "dataset = dataset.dropna(axis=0)\n",
    "# Set number of trials to one for far.model_binomial_iCAR()\n",
    "dataset[\"trial\"] = 1\n",
    "# Print the first five rows\n",
    "dataset.head(5)"
   ]
  },
  {
   "cell_type": "markdown",
   "metadata": {},
   "source": [
    "## 2. Model"
   ]
  },
  {
   "cell_type": "markdown",
   "metadata": {},
   "source": [
    "### 2.1 Model preparation"
   ]
  },
  {
   "cell_type": "code",
   "execution_count": null,
   "metadata": {},
   "outputs": [],
   "source": [
    "# Neighborhood for spatial-autocorrelation\n",
    "nneigh, adj = far.cellneigh(raster=f\"{data_path}/fcc23.tif\", csize=10, rank=1)\n",
    "\n",
    "# List of variables\n",
    "variables = [\n",
    "    \"scale(altitude)\",\n",
    "    \"scale(slope)\",\n",
    "    \"scale(dist_defor)\",\n",
    "    \"scale(dist_edge)\",\n",
    "    \"scale(dist_road)\",\n",
    "    \"scale(dist_town)\",\n",
    "    \"scale(dist_river)\",\n",
    "]\n",
    "\n",
    "# Formula\n",
    "right_part = \" + \".join(variables) + \" + cell\"\n",
    "left_part = \"I(1-fcc23) + trial ~ \"\n",
    "formula = left_part + right_part\n",
    "\n",
    "# Starting values\n",
    "beta_start = -99  # Simple GLM estimates\n",
    "\n",
    "# Priors\n",
    "priorVrho = -1  # -1=\"1/Gamma\""
   ]
  },
  {
   "cell_type": "markdown",
   "metadata": {},
   "source": [
    "### 2.2 iCAR model"
   ]
  },
  {
   "cell_type": "code",
   "execution_count": null,
   "metadata": {},
   "outputs": [],
   "source": [
    "# Run the model\n",
    "mod_binomial_iCAR = far.model_binomial_iCAR(\n",
    "    suitability_formula=formula,\n",
    "    data=dataset,  # Observations\n",
    "    n_neighbors=nneigh,\n",
    "    neighbors=adj,  # Spatial structure\n",
    "    priorVrho=priorVrho,  # Priors\n",
    "    burnin=1000,\n",
    "    mcmc=1000,\n",
    "    thin=1,  # Chains\n",
    "    beta_start=beta_start,\n",
    ")  # Starting values"
   ]
  },
  {
   "cell_type": "markdown",
   "metadata": {},
   "source": [
    "### 2.3 Model summary"
   ]
  },
  {
   "cell_type": "code",
   "execution_count": null,
   "metadata": {},
   "outputs": [],
   "source": [
    "# Predictions\n",
    "pred_icar = mod_binomial_iCAR.theta_pred\n",
    "\n",
    "# Summary\n",
    "display(mod_binomial_iCAR)\n",
    "\n",
    "# Write summary in file\n",
    "with open(f\"{output_path}/summary_icar.txt\", \"w\") as f:\n",
    "    f.write(str(mod_binomial_iCAR))"
   ]
  },
  {
   "cell_type": "markdown",
   "metadata": {},
   "source": [
    "## 3. Predict\n",
    "\n",
    "### 3.1 Interpolate spatial random effects"
   ]
  },
  {
   "cell_type": "code",
   "execution_count": null,
   "metadata": {},
   "outputs": [],
   "source": [
    "# Spatial random effects\n",
    "rho = mod_binomial_iCAR.rho\n",
    "\n",
    "# Interpolate\n",
    "far.interpolate_rho(\n",
    "    rho=rho,\n",
    "    input_raster=f\"{data_path}/fcc23.tif\",\n",
    "    output_file=f\"{output_path}/rho.tif\",\n",
    "    csize_orig=10,\n",
    "    csize_new=1,\n",
    ")"
   ]
  },
  {
   "cell_type": "markdown",
   "metadata": {},
   "source": [
    "### 3.2 Predict deforestation probability"
   ]
  },
  {
   "cell_type": "code",
   "execution_count": null,
   "metadata": {},
   "outputs": [],
   "source": [
    "# Update dist_edge and dist_defor at t3\n",
    "os.rename(f\"{data_path}/dist_edge.tif\", f\"{data_path}/dist_edge.tif.bak\")\n",
    "os.rename(f\"{data_path}/dist_defor.tif\", f\"{data_path}/dist_defor.tif.bak\")\n",
    "copy2(f\"{data_path}/forecast/dist_edge_forecast.tif\", f\"{data_path}/dist_edge.tif\")\n",
    "copy2(f\"{data_path}/forecast/dist_defor_forecast.tif\", f\"{data_path}/dist_defor.tif\")\n",
    "\n",
    "# Compute predictions\n",
    "far.predict_raster_binomial_iCAR(\n",
    "    mod_binomial_iCAR,\n",
    "    var_dir=f\"{data_path}\",\n",
    "    input_cell_raster=f\"{output_path}/rho.tif\",\n",
    "    input_forest_raster=f\"{data_path}/forest/forest_t3.tif\",\n",
    "    output_file=f\"{output_path}/prob.tif\",\n",
    "    blk_rows=10,  # Reduced number of lines to avoid memory problems\n",
    ")\n",
    "\n",
    "# Reinitialize data\n",
    "os.remove(f\"{data_path}/dist_edge.tif\")\n",
    "os.remove(f\"{data_path}/dist_defor.tif\")\n",
    "os.rename(f\"{data_path}/dist_edge.tif.bak\", f\"{data_path}/dist_edge.tif\")\n",
    "os.rename(f\"{data_path}/dist_defor.tif.bak\", f\"{data_path}/dist_defor.tif\")"
   ]
  },
  {
   "cell_type": "markdown",
   "metadata": {},
   "source": [
    "## 4. Project future forest cover change"
   ]
  },
  {
   "cell_type": "code",
   "execution_count": null,
   "metadata": {},
   "outputs": [],
   "source": [
    "# Forest cover\n",
    "fc = list()\n",
    "dates = [\"t2\", \"t3\"]\n",
    "ndates = len(dates)\n",
    "for i in range(ndates):\n",
    "    rast = f\"{data_path}/forest/forest_\" + dates[i] + \".tif\"\n",
    "    val = far.countpix(input_raster=rast, value=1)\n",
    "    fc.append(val[\"area\"])  # area in ha\n",
    "# Save results to disk\n",
    "f = open(f\"{output_path}/forest_cover.txt\", \"w\")\n",
    "for i in fc:\n",
    "    f.write(str(i) + \"\\n\")\n",
    "f.close()\n",
    "# Annual deforestation\n",
    "T = 10.0\n",
    "annual_defor = (fc[0] - fc[1]) / T\n",
    "print(\n",
    "    \"Mean annual deforested area during the period 2010-2020: {} ha/yr\".format(\n",
    "        annual_defor\n",
    "    )\n",
    ")"
   ]
  },
  {
   "cell_type": "code",
   "execution_count": null,
   "metadata": {},
   "outputs": [],
   "source": [
    "# Projected deforestation (ha) during 2020-2050\n",
    "defor = annual_defor * 30\n",
    "\n",
    "# Compute future forest cover in 2050\n",
    "stats = far.deforest(\n",
    "    input_raster=f\"{output_path}/prob.tif\",\n",
    "    hectares=defor,\n",
    "    output_file=f\"{output_path}/fcc_2050.tif\",\n",
    "    blk_rows=128,\n",
    ")"
   ]
  },
  {
   "cell_type": "markdown",
   "metadata": {},
   "source": [
    "## 5. Figures"
   ]
  },
  {
   "cell_type": "markdown",
   "metadata": {},
   "source": [
    "### 5.0 Borders\n",
    "\n",
    "Init the map and the border of the aoi "
   ]
  },
  {
   "cell_type": "code",
   "execution_count": null,
   "metadata": {},
   "outputs": [],
   "source": [
    "# create the map\n",
    "map_ = sm.SepalMap()\n",
    "\n",
    "# read the borders\n",
    "border_file = f\"{data_path}/ctry_PROJ.shp\"\n",
    "border_gdf = gpd.read_file(border_file).to_crs(4326)\n",
    "\n",
    "border_layer = GeoJSON(\n",
    "    data=border_gdf.__geo_interface__,\n",
    "    style={\n",
    "        \"stroke\": True,\n",
    "        \"color\": color.primary,\n",
    "        \"weight\": 2,\n",
    "        \"opacity\": 1,\n",
    "        \"fill\": False,\n",
    "    },\n",
    "    name=\"borders\",\n",
    ")\n",
    "\n",
    "map_.add_layer(border_layer)\n",
    "map_.zoom_bounds(border_gdf.total_bounds);"
   ]
  },
  {
   "cell_type": "markdown",
   "metadata": {},
   "source": [
    "### 5.1 Historical forest cover change\n",
    "\n",
    "Forest cover change for the period 2000-2010-2020"
   ]
  },
  {
   "cell_type": "code",
   "execution_count": null,
   "metadata": {},
   "outputs": [],
   "source": [
    "# Plot forest\n",
    "cmax = 255.0  # float for division\n",
    "colors = [\n",
    "    (1, 1, 1, 0),  # transparent for 0\n",
    "    (255, 165, 0, 255),  # green\n",
    "    (227, 26, 28, 255),  # orange\n",
    "    (34, 139, 34, 255),  # red\n",
    "]\n",
    "\n",
    "map_.add_raster(\n",
    "    f\"{data_path}/forest/fcc123.tif\",\n",
    "    layer_name=\"forest cover 123\",\n",
    "    colormap=ListedColormap(\n",
    "        [tuple([v / cmax for v in c]) for i, c in enumerate(colors)]\n",
    "    ),\n",
    "    colorbar_position=False,\n",
    "    fit_bounds=False,\n",
    ")"
   ]
  },
  {
   "cell_type": "markdown",
   "metadata": {},
   "source": [
    "### 5.2 Spatial random effects"
   ]
  },
  {
   "cell_type": "code",
   "execution_count": null,
   "metadata": {},
   "outputs": [],
   "source": [
    "# Original spatial random effects\n",
    "map_.add_raster(\n",
    "    f\"{output_path}/rho_orig.tif\",\n",
    "    layer_name=\"original spatial random effect\",\n",
    "    colormap=\"RdYlGn_r\",\n",
    "    colorbar_position=False,\n",
    "    fit_bounds=False,\n",
    ")\n",
    "\n",
    "# Interpolated spatial random effects\n",
    "map_.add_raster(\n",
    "    f\"{output_path}/rho.tif\",\n",
    "    layer_name=\"Interpolated spatial random effects\",\n",
    "    colormap=\"RdYlGn_r\",\n",
    "    colorbar_position=False,\n",
    "    fit_bounds=False,\n",
    ")"
   ]
  },
  {
   "cell_type": "markdown",
   "metadata": {
    "tags": []
   },
   "source": [
    "### 5.3 Spatial probability of deforestation"
   ]
  },
  {
   "cell_type": "code",
   "execution_count": null,
   "metadata": {},
   "outputs": [],
   "source": [
    "# create a new colormap\n",
    "# Colormap\n",
    "colors = []\n",
    "cmax = 255.0  # float for division\n",
    "vmax = 65535.0  # float for division\n",
    "colors.append((0, (34 / cmax, 139 / cmax, 34 / cmax, 1)))  # green\n",
    "colors.append((1 / vmax, (34 / cmax, 139 / cmax, 34 / cmax, 1)))  # green\n",
    "colors.append((39322 / vmax, (1, 165 / cmax, 0, 1)))  # orange, p=0.60\n",
    "colors.append((52429 / vmax, (227 / cmax, 26 / cmax, 28 / cmax, 1)))  # red, p=0.80\n",
    "colors.append((1, (0, 0, 0, 1)))  # black\n",
    "color_map = LinearSegmentedColormap.from_list(\n",
    "    name=\"mycm\", colors=colors, N=65535, gamma=1.0\n",
    ")\n",
    "\n",
    "# transparent, must be associated with vmin\n",
    "color_map.set_under(color=(1, 1, 1, 0))\n",
    "\n",
    "# Spatial probability of deforestation\n",
    "map_.add_raster(\n",
    "    f\"{output_path}/prob.tif\",\n",
    "    layer_name=\"Spatial probability of deforestation\",\n",
    "    colormap=color_map,\n",
    "    colorbar_position=False,\n",
    "    fit_bounds=False,\n",
    ")"
   ]
  },
  {
   "cell_type": "markdown",
   "metadata": {},
   "source": [
    "### 5.4 Future forest cover"
   ]
  },
  {
   "cell_type": "code",
   "execution_count": null,
   "metadata": {},
   "outputs": [],
   "source": [
    "# create the colormap\n",
    "colors = []\n",
    "cmax = 255.0  # float for division\n",
    "col_defor = tuple(np.array([34, 139, 34, 255]) / cmax)\n",
    "col_for = tuple(np.array([227, 26, 28, 255]) / cmax)\n",
    "colors.append((0, 0, 0, 0))  # transparent\n",
    "colors.append(col_for)\n",
    "colors.append(col_defor)\n",
    "color_map = ListedColormap(colors)\n",
    "\n",
    "# Projected forest cover change (2020-2050)\n",
    "map_.add_raster(\n",
    "    f\"{output_path}/fcc_2050.tif\",\n",
    "    layer_name=\"Projected forest cover change (2020-2050)\",\n",
    "    colormap=color_map,\n",
    "    colorbar_position=False,\n",
    "    fit_bounds=False,\n",
    ")"
   ]
  },
  {
   "cell_type": "code",
   "execution_count": null,
   "metadata": {},
   "outputs": [],
   "source": [
    "map_"
   ]
  },
  {
   "cell_type": "code",
   "execution_count": null,
   "metadata": {},
   "outputs": [],
   "source": []
  }
 ],
 "metadata": {
  "celltoolbar": "Raw Cell Format",
  "kernelspec": {
   "display_name": "Python 3",
   "language": "python",
   "name": "python3"
  },
  "language_info": {
   "codemirror_mode": {
    "name": "ipython",
    "version": 3
   },
   "file_extension": ".py",
   "mimetype": "text/x-python",
   "name": "python",
   "nbconvert_exporter": "python",
   "pygments_lexer": "ipython3",
   "version": "3.8.10"
  }
 },
 "nbformat": 4,
 "nbformat_minor": 4
}
